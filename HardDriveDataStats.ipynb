{
 "cells": [
  {
   "cell_type": "code",
   "execution_count": 6,
   "metadata": {},
   "outputs": [
    {
     "output_type": "stream",
     "name": "stdout",
     "text": "Index(['date', 'serial_number', 'model', 'capacity_bytes', 'failure',\n       'smart_1_normalized', 'smart_1_raw', 'smart_2_normalized',\n       'smart_2_raw', 'smart_3_normalized',\n       ...\n       'smart_250_normalized', 'smart_250_raw', 'smart_251_normalized',\n       'smart_251_raw', 'smart_252_normalized', 'smart_252_raw',\n       'smart_254_normalized', 'smart_254_raw', 'smart_255_normalized',\n       'smart_255_raw'],\n      dtype='object', length=129)\n              date   serial_number                 model  capacity_bytes  \\\n0       2019-07-01        Z305B2QN           ST4000DM000   4000787030016   \n1       2019-07-01        ZJV0XJQ4         ST12000NM0007  12000138625024   \n2       2019-07-01        ZJV0XJQ3         ST12000NM0007  12000138625024   \n3       2019-07-01        ZJV0XJQ0         ST12000NM0007  12000138625024   \n4       2019-07-01  PL1331LAHG1S4H  HGST HMS5C4040ALE640   4000787030016   \n...            ...             ...                   ...             ...   \n110633  2019-07-01        ZA10MCEQ           ST8000DM002   8001563222016   \n110634  2019-07-01        ZCH0CRTK         ST12000NM0007  12000138625024   \n110635  2019-07-01        AAGA7W2H  HGST HUH721212ALN604  12000138625024   \n110636  2019-07-01  PL1331LAHGD9NH  HGST HMS5C4040BLE640   4000787030016   \n110637  2019-07-01  PL2331LAHDS4TJ  HGST HMS5C4040BLE640   4000787030016   \n\n        failure  smart_1_normalized  smart_1_raw  smart_2_normalized  \\\n0             0               119.0  224077128.0                 NaN   \n1             0                83.0  196781888.0                 NaN   \n2             0                76.0   37537312.0                 NaN   \n3             0               100.0    1592144.0                 NaN   \n4             0               100.0          0.0               134.0   \n...         ...                 ...          ...                 ...   \n110633        0                80.0   97764264.0                 NaN   \n110634        0                83.0  181047008.0                 NaN   \n110635        0               100.0          0.0               132.0   \n110636        0               100.0          0.0               134.0   \n110637        0               100.0          0.0               133.0   \n\n        smart_2_raw  smart_3_normalized  ...  smart_250_normalized  \\\n0               NaN                91.0  ...                   NaN   \n1               NaN                98.0  ...                   NaN   \n2               NaN                99.0  ...                   NaN   \n3               NaN                93.0  ...                   NaN   \n4             103.0               100.0  ...                   NaN   \n...             ...                 ...  ...                   ...   \n110633          NaN                94.0  ...                   NaN   \n110634          NaN                97.0  ...                   NaN   \n110635         96.0               100.0  ...                   NaN   \n110636        100.0               100.0  ...                   NaN   \n110637        104.0               100.0  ...                   NaN   \n\n        smart_250_raw  smart_251_normalized  smart_251_raw  \\\n0                 NaN                   NaN            NaN   \n1                 NaN                   NaN            NaN   \n2                 NaN                   NaN            NaN   \n3                 NaN                   NaN            NaN   \n4                 NaN                   NaN            NaN   \n...               ...                   ...            ...   \n110633            NaN                   NaN            NaN   \n110634            NaN                   NaN            NaN   \n110635            NaN                   NaN            NaN   \n110636            NaN                   NaN            NaN   \n110637            NaN                   NaN            NaN   \n\n        smart_252_normalized  smart_252_raw  smart_254_normalized  \\\n0                        NaN            NaN                   NaN   \n1                        NaN            NaN                   NaN   \n2                        NaN            NaN                   NaN   \n3                        NaN            NaN                   NaN   \n4                        NaN            NaN                   NaN   \n...                      ...            ...                   ...   \n110633                   NaN            NaN                   NaN   \n110634                   NaN            NaN                   NaN   \n110635                   NaN            NaN                   NaN   \n110636                   NaN            NaN                   NaN   \n110637                   NaN            NaN                   NaN   \n\n        smart_254_raw  smart_255_normalized  smart_255_raw  \n0                 NaN                   NaN            NaN  \n1                 NaN                   NaN            NaN  \n2                 NaN                   NaN            NaN  \n3                 NaN                   NaN            NaN  \n4                 NaN                   NaN            NaN  \n...               ...                   ...            ...  \n110633            NaN                   NaN            NaN  \n110634            NaN                   NaN            NaN  \n110635            NaN                   NaN            NaN  \n110636            NaN                   NaN            NaN  \n110637            NaN                   NaN            NaN  \n\n[110638 rows x 129 columns]\n"
    }
   ],
   "source": [
    "# Data import\n",
    "\n",
    "import pandas as pd\n",
    "\n",
    "data_train = pd.read_csv(\"./data/2019-07-01.csv\")"
   ]
  },
  {
   "cell_type": "code",
   "execution_count": null,
   "metadata": {},
   "outputs": [],
   "source": [
    "# To use model and serial number quantify it 'serial_number', 'model', \n",
    "\n",
    "FEATURES = ['capacity_bytes', 'smart_1_normalized', 'smart_2_normalized', 'smart_3_normalized', 'smart_4_normalized', 'smart_5_normalized', 'smart_7_normalized', 'smart_8_normalized', 'smart_9_normalized', 'smart_10_normalized', 'smart_11_normalized', 'smart_12_normalized', 'smart_13_normalized', 'smart_15_normalized', 'smart_16_normalized', 'smart_17_normalized', 'smart_22_normalized', 'smart_23_normalized', 'smart_24_normalized', 'smart_168_normalized', 'smart_170_normalized', 'smart_173_normalized', 'smart_174_normalized', 'smart_177_normalized', 'smart_179_normalized', 'smart_181_normalized', 'smart_182_normalized', 'smart_183_normalized', 'smart_184_normalized', 'smart_187_normalized', 'smart_188_normalized', 'smart_189_normalized', 'smart_190_normalized', 'smart_191_normalized', 'smart_192_normalized', 'smart_193_normalized', 'smart_194_normalized', 'smart_195_normalized', 'smart_196_normalized', 'smart_197_normalized', 'smart_198_normalized', 'smart_199_normalized', 'smart_200_normalized', 'smart_201_normalized', 'smart_218_normalized', 'smart_220_normalized', 'smart_222_normalized', 'smart_223_normalized', 'smart_224_normalized', 'smart_225_normalized', 'smart_226_normalized', 'smart_231_normalized', 'smart_232_normalized', 'smart_233_normalized', 'smart_235_normalized', 'smart_240_normalized', 'smart_241_normalized', 'smart_242_normalized', 'smart_250_normalized', 'smart_251_normalized', 'smart_252_normalized', 'smart_254_normalized', 'smart_255_normalized']"
   ]
  },
  {
   "cell_type": "code",
   "execution_count": 56,
   "metadata": {
    "tags": [
     "outputPrepend",
     "outputPrepend",
     "outputPrepend",
     "outputPrepend",
     "outputPrepend",
     "outputPrepend",
     "outputPrepend",
     "outputPrepend",
     "outputPrepend",
     "outputPrepend",
     "outputPrepend",
     "outputPrepend",
     "outputPrepend",
     "outputPrepend",
     "outputPrepend",
     "outputPrepend",
     "outputPrepend",
     "outputPrepend",
     "outputPrepend",
     "outputPrepend",
     "outputPrepend"
    ]
   },
   "outputs": [
    {
     "output_type": "stream",
     "name": "stdout",
     "text": "['date', 'serial_number', 'model', 'capacity_bytes', 'failure', 'smart_1_normalized', 'smart_2_normalized', 'smart_3_normalized', 'smart_4_normalized', 'smart_5_normalized', 'smart_7_normalized', 'smart_8_normalized', 'smart_9_normalized', 'smart_10_normalized', 'smart_11_normalized', 'smart_12_normalized', 'smart_13_normalized', 'smart_15_normalized', 'smart_16_normalized', 'smart_17_normalized', 'smart_22_normalized', 'smart_23_normalized', 'smart_24_normalized', 'smart_168_normalized', 'smart_170_normalized', 'smart_173_normalized', 'smart_174_normalized', 'smart_177_normalized', 'smart_179_normalized', 'smart_181_normalized', 'smart_182_normalized', 'smart_183_normalized', 'smart_184_normalized', 'smart_187_normalized', 'smart_188_normalized', 'smart_189_normalized', 'smart_190_normalized', 'smart_191_normalized', 'smart_192_normalized', 'smart_193_normalized', 'smart_194_normalized', 'smart_195_normalized', 'smart_196_normalized', 'smart_197_normalized', 'smart_198_normalized', 'smart_199_normalized', 'smart_200_normalized', 'smart_201_normalized', 'smart_218_normalized', 'smart_220_normalized', 'smart_222_normalized', 'smart_223_normalized', 'smart_224_normalized', 'smart_225_normalized', 'smart_226_normalized', 'smart_231_normalized', 'smart_232_normalized', 'smart_233_normalized', 'smart_235_normalized', 'smart_240_normalized', 'smart_241_normalized', 'smart_242_normalized', 'smart_250_normalized', 'smart_251_normalized', 'smart_252_normalized', 'smart_254_normalized', 'smart_255_normalized', ]\n"
    }
   ],
   "source": [
    "# Data cleaning\n",
    "\n",
    "## Check if each raw value has a normalized value\n",
    "for i in range(1, 255):\n",
    "    if f'smart_{i}_raw' in data_train.columns:\n",
    "        col1 = data_train[f'smart_{i}_normalized'].isnull()\n",
    "        col2 = data_train[f'smart_{i}_raw'].notnull()\n",
    "        if(data_train[col1 & col2].size != 0):\n",
    "            print(\"Incorrect: \" + str(i))\n"
   ]
  },
  {
   "cell_type": "code",
   "execution_count": null,
   "metadata": {},
   "outputs": [],
   "source": []
  }
 ],
 "metadata": {
  "language_info": {
   "codemirror_mode": {
    "name": "ipython",
    "version": 3
   },
   "file_extension": ".py",
   "mimetype": "text/x-python",
   "name": "python",
   "nbconvert_exporter": "python",
   "pygments_lexer": "ipython3",
   "version": "3.6.9-final"
  },
  "orig_nbformat": 2,
  "kernelspec": {
   "name": "python36964bit3c8191154dcc47d19c760e5fb19c417f",
   "display_name": "Python 3.6.9 64-bit"
  }
 },
 "nbformat": 4,
 "nbformat_minor": 2
}